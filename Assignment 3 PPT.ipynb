{
 "cells": [
  {
   "cell_type": "markdown",
   "id": "cd513e3f",
   "metadata": {},
   "source": [
    "__1. Scenario: A company wants to analyze the sales performance of its products in different regions. They have collected the following data:__\n",
    "   \n",
    "   Region A: [10, 15, 12, 8, 14]\n",
    "   Region B: [18, 20, 16, 22, 25]\n",
    "  \n",
    "  Calculate the mean sales for each region.__\n"
   ]
  },
  {
   "cell_type": "code",
   "execution_count": 1,
   "id": "320dfdf3",
   "metadata": {},
   "outputs": [
    {
     "name": "stdout",
     "output_type": "stream",
     "text": [
      "Mean Sales of Region A: 11.8\n",
      "Mean Sales of Region B: 20.2\n"
     ]
    }
   ],
   "source": [
    "\n",
    "Region_A=[10, 15, 12, 8, 14]\n",
    "Region_B=[18, 20, 16, 22, 25]\n",
    "\n",
    "\n",
    "mean_sale_RegionA=sum(Region_A)/len(Region_A)\n",
    "mean_sale_RegionB=sum(Region_B)/len(Region_B)\n",
    "\n",
    "print(\"Mean Sales of Region A:\",mean_sale_RegionA)\n",
    "print(\"Mean Sales of Region B:\",mean_sale_RegionB)"
   ]
  },
  {
   "cell_type": "markdown",
   "id": "2331e42b",
   "metadata": {},
   "source": [
    "__2. Scenario: A survey is conducted to measure customer satisfaction on a scale of 1 to 5. The data collected is as follows:__\n",
    "   [4, 5, 2, 3, 5, 4, 3, 2, 4, 5]<br>\n",
    "   Calculate the mode of the survey responses.\n"
   ]
  },
  {
   "cell_type": "code",
   "execution_count": 11,
   "id": "8117aae4",
   "metadata": {},
   "outputs": [
    {
     "data": {
      "text/plain": [
       "[4, 5]"
      ]
     },
     "execution_count": 11,
     "metadata": {},
     "output_type": "execute_result"
    }
   ],
   "source": [
    "from statistics import multimode\n",
    "\n",
    "survey=[4, 5, 2, 3, 5, 4, 3, 2, 4, 5]\n",
    "multimode(survey)"
   ]
  },
  {
   "cell_type": "markdown",
   "id": "5913eb53",
   "metadata": {},
   "source": [
    "__3. Scenario: A company wants to compare the salaries of two departments. The salary data for Department A and Department B are as follows:__<br>\n",
    "   Department A: [5000, 6000, 5500, 7000]<br>\n",
    "   Department B: [4500, 5500, 5800, 6000, 5200]<br>\n",
    "   Calculate the median salary for each department.\n"
   ]
  },
  {
   "cell_type": "code",
   "execution_count": 12,
   "id": "1181420f",
   "metadata": {},
   "outputs": [
    {
     "name": "stdout",
     "output_type": "stream",
     "text": [
      "Median salary of Department A: 5750.0\n",
      "Median salary of Department B: 5500\n"
     ]
    }
   ],
   "source": [
    "Department_A= [5000, 6000, 5500, 7000]\n",
    "Department_B= [4500, 5500, 5800, 6000, 5200]\n",
    "\n",
    "from statistics  import median\n",
    "\n",
    "print(\"Median salary of Department A:\",median(Department_A))\n",
    "print(\"Median salary of Department B:\",median(Department_B))"
   ]
  },
  {
   "cell_type": "markdown",
   "id": "cb1b7eb8",
   "metadata": {},
   "source": [
    "__4. Scenario: A data analyst wants to determine the variability in the daily stock prices of a company. The data collected is as follows:__<br>\n",
    "   [25.5, 24.8, 26.1, 25.3, 24.9]<br>\n",
    "   Calculate the range of the stock prices.\n"
   ]
  },
  {
   "cell_type": "code",
   "execution_count": 14,
   "id": "86d72724",
   "metadata": {},
   "outputs": [
    {
     "name": "stdout",
     "output_type": "stream",
     "text": [
      "Range: 1.3000000000000007\n"
     ]
    }
   ],
   "source": [
    "data=[25.5, 24.8, 26.1, 25.3, 24.9]\n",
    "maxx,minn=max(data),min(data)\n",
    "\n",
    "print(\"Range:\", maxx-minn)"
   ]
  },
  {
   "cell_type": "markdown",
   "id": "069aeb10",
   "metadata": {},
   "source": [
    "__5. Scenario: A study is conducted to compare the performance of two different teaching methods. The test scores of the students in each group are as follows:__<br>\n",
    "   Group A: [85, 90, 92, 88, 91]<br>\n",
    "   Group B: [82, 88, 90, 86, 87]<br>\n",
    "   Perform a t-test to determine if there is a significant difference in the mean scores between the two groups.\n"
   ]
  },
  {
   "cell_type": "markdown",
   "id": "fb80ae08",
   "metadata": {},
   "source": [
    "----------------------------"
   ]
  },
  {
   "cell_type": "markdown",
   "id": "ff92531b",
   "metadata": {},
   "source": [
    "Null hypothesis (H0): There is no significant difference in the mean scores between Group A and Group B.\n",
    "    \n",
    "Alternative hypothesis (H1): There is a significant difference in the mean scores between Group A and Group B.\n",
    "\n",
    "significant level (alpha)= 0.05%"
   ]
  },
  {
   "cell_type": "code",
   "execution_count": 19,
   "id": "74e44197",
   "metadata": {
    "scrolled": true
   },
   "outputs": [
    {
     "name": "stdout",
     "output_type": "stream",
     "text": [
      "t-statistic: 1.4312528946642733\n",
      "p-value: 0.19023970239078333\n"
     ]
    }
   ],
   "source": [
    "import scipy.stats as stats\n",
    "\n",
    "# Test scores of Group A and Group B\n",
    "group_a = [85, 90, 92, 88, 91]\n",
    "group_b = [82, 88, 90, 86, 87]\n",
    "\n",
    "# Perform independent two-sample t-test\n",
    "t_statistic, p_value = stats.ttest_ind(group_a, group_b)\n",
    "\n",
    "# Print the t-statistic and p-value\n",
    "print(\"t-statistic:\", t_statistic)\n",
    "print(\"p-value:\", p_value)"
   ]
  },
  {
   "cell_type": "markdown",
   "id": "9b9aab88",
   "metadata": {},
   "source": [
    "p-value(0.19) is more than significance level(0.05)\n",
    "\n",
    "we cannot reject null hypothesis ,hence \n",
    "and hence there is no significant difference between the groups."
   ]
  },
  {
   "cell_type": "markdown",
   "id": "161d8046",
   "metadata": {},
   "source": [
    "__6. Scenario: A company wants to analyze the relationship between advertising expenditure and sales. The data collected is as follows:__\n",
    "  <br> Advertising Expenditure (in thousands): [10, 15, 12, 8, 14]<br>\n",
    "   Sales (in thousands): [25, 30, 28, 20, 26]<br>\n",
    "   Calculate the correlation coefficient between advertising expenditure and sales.\n"
   ]
  },
  {
   "cell_type": "code",
   "execution_count": 20,
   "id": "315dc6d2",
   "metadata": {},
   "outputs": [
    {
     "data": {
      "text/html": [
       "<div>\n",
       "<style scoped>\n",
       "    .dataframe tbody tr th:only-of-type {\n",
       "        vertical-align: middle;\n",
       "    }\n",
       "\n",
       "    .dataframe tbody tr th {\n",
       "        vertical-align: top;\n",
       "    }\n",
       "\n",
       "    .dataframe thead th {\n",
       "        text-align: right;\n",
       "    }\n",
       "</style>\n",
       "<table border=\"1\" class=\"dataframe\">\n",
       "  <thead>\n",
       "    <tr style=\"text-align: right;\">\n",
       "      <th></th>\n",
       "      <th>Expenditure</th>\n",
       "      <th>Sales</th>\n",
       "    </tr>\n",
       "  </thead>\n",
       "  <tbody>\n",
       "    <tr>\n",
       "      <th>0</th>\n",
       "      <td>10</td>\n",
       "      <td>25</td>\n",
       "    </tr>\n",
       "    <tr>\n",
       "      <th>1</th>\n",
       "      <td>15</td>\n",
       "      <td>30</td>\n",
       "    </tr>\n",
       "    <tr>\n",
       "      <th>2</th>\n",
       "      <td>12</td>\n",
       "      <td>28</td>\n",
       "    </tr>\n",
       "    <tr>\n",
       "      <th>3</th>\n",
       "      <td>8</td>\n",
       "      <td>20</td>\n",
       "    </tr>\n",
       "    <tr>\n",
       "      <th>4</th>\n",
       "      <td>14</td>\n",
       "      <td>26</td>\n",
       "    </tr>\n",
       "  </tbody>\n",
       "</table>\n",
       "</div>"
      ],
      "text/plain": [
       "   Expenditure  Sales\n",
       "0           10     25\n",
       "1           15     30\n",
       "2           12     28\n",
       "3            8     20\n",
       "4           14     26"
      ]
     },
     "execution_count": 20,
     "metadata": {},
     "output_type": "execute_result"
    }
   ],
   "source": [
    "import pandas as pd\n",
    "\n",
    "expenditure = [10, 15, 12, 8, 14]\n",
    "sales = [25, 30, 28, 20, 26]\n",
    "\n",
    "df=pd.DataFrame({'Expenditure': expenditure, 'Sales': sales})\n",
    "df"
   ]
  },
  {
   "cell_type": "code",
   "execution_count": 22,
   "id": "0c013c3b",
   "metadata": {},
   "outputs": [
    {
     "name": "stdout",
     "output_type": "stream",
     "text": [
      "Correlation Coefficient: 0.8757511375750132\n"
     ]
    }
   ],
   "source": [
    "corr_coef=df['Expenditure'].corr(df['Sales'])\n",
    "print(\"Correlation Coefficient:\",corr_coef)"
   ]
  },
  {
   "cell_type": "markdown",
   "id": "080ebef7",
   "metadata": {},
   "source": [
    "__7. Scenario: A survey is conducted to measure the heights of a group of people. The data collected is as follows:__<br>\n",
    "   [160, 170, 165, 155, 175, 180, 170]<br>\n",
    "   Calculate the standard deviation of the heights.\n"
   ]
  },
  {
   "cell_type": "code",
   "execution_count": 23,
   "id": "1d344403",
   "metadata": {},
   "outputs": [
    {
     "name": "stdout",
     "output_type": "stream",
     "text": [
      "Standard Deviation:  8.591246929842246\n"
     ]
    }
   ],
   "source": [
    "data=[160, 170, 165, 155, 175, 180, 170]\n",
    "\n",
    "from statistics import stdev\n",
    "\n",
    "print(\"Standard Deviation: \",stdev(data))"
   ]
  },
  {
   "cell_type": "markdown",
   "id": "e4583d65",
   "metadata": {},
   "source": [
    "__8. Scenario: A company wants to analyze the relationship between employee tenure and job satisfaction. The data collected is as follows:__<br>\n",
    "        Employee Tenure (in years): [2, 3, 5, 4, 6, 2, 4]<br>\n",
    "   Job Satisfaction (on a scale of 1 to 10): [7, 8, 6, 9, 5, 7, 6]<br>\n",
    "   Perform a linear regression analysis to predict job satisfaction based on employee tenure.\n"
   ]
  },
  {
   "cell_type": "code",
   "execution_count": 28,
   "id": "0dceb286",
   "metadata": {},
   "outputs": [],
   "source": [
    "import numpy as np\n",
    "\n",
    "Employee_Tenure= np.array([2, 3, 5, 4, 6, 2, 4]).reshape(-1,1)\n",
    "Job_Satisfaction=np.array([7, 8, 6, 9, 5, 7, 6])"
   ]
  },
  {
   "cell_type": "code",
   "execution_count": 60,
   "id": "8909bc2d",
   "metadata": {
    "scrolled": true
   },
   "outputs": [
    {
     "name": "stdout",
     "output_type": "stream",
     "text": [
      "Coefficient: -0.4680851063829787\n",
      "Intercept: 8.595744680851062\n",
      "y=6.957446808510637 prediction for x=5.5\n"
     ]
    }
   ],
   "source": [
    "from sklearn.linear_model import LinearRegression\n",
    "lr=LinearRegression()\n",
    "\n",
    "lr.fit(Employee_Tenure,Job_Satisfaction)\n",
    "\n",
    "coefficient=lr.coef_[0]\n",
    "intercept=lr.intercept_\n",
    "\n",
    "print(\"Coefficient:\", coefficient)\n",
    "print(\"Intercept:\", intercept)\n",
    "\n",
    "prediction= coefficient*(3.5)+intercept\n",
    "print(f\"y={prediction} prediction for x=3.5\")"
   ]
  },
  {
   "cell_type": "markdown",
   "id": "190ebb88",
   "metadata": {},
   "source": [
    "#### 9. Scenario: A study is conducted to compare the effectiveness of two different medications. The recovery times of the patients in each group are as follows:\n",
    "  <br> Medication A: [10, 12, 14, 11, 13]<br>\n",
    "   Medication B: [15, 17, 16, 14, 18]<br>\n",
    "   Perform an analysis of variance (ANOVA) to determine if there is a significant difference in the mean recovery times between the two medications.\n"
   ]
  },
  {
   "cell_type": "code",
   "execution_count": 38,
   "id": "db682d77",
   "metadata": {},
   "outputs": [
    {
     "name": "stdout",
     "output_type": "stream",
     "text": [
      "ANOVA TEST:\n",
      "\n",
      "F-Value: 16.0\n",
      "P-Value: 0.003949772803445326\n",
      "The p-value is less than the significance level (alpha).\n",
      "There is a significant difference in the mean recovery times between Medication A and Medication B.\n"
     ]
    }
   ],
   "source": [
    "import pandas as pd\n",
    "from scipy.stats import stats\n",
    "\n",
    "Medication_A= [10, 12, 14, 11, 13]\n",
    "Medication_B= [15, 17, 16, 14, 18]\n",
    "\n",
    "df=pd.DataFrame({\"Medication_A\":Medication_A, \"Medication_B\":Medication_B})\n",
    "\n",
    "f_value,p_value=stats.f_oneway(df['Medication_A'],df['Medication_B'])\n",
    "\n",
    "alpha=0.05\n",
    "\n",
    "print(\"ANOVA TEST:\")\n",
    "print()\n",
    "print(\"F-Value:\",f_value)\n",
    "print(\"P-Value:\",p_value)\n",
    "\n",
    "if p_value<alpha:\n",
    "    if p_value < alpha:\n",
    "        print(\"The p-value is less than the significance level (alpha).\")\n",
    "        print(\"There is a significant difference in the mean recovery times between Medication A and Medication B.\")\n",
    "    else: \n",
    "        print(\"The p-value is greater than the significance level (alpha).\")\n",
    "        print(\"There is no significant difference in the mean recovery times between Medication A and Medication B.\")\n",
    "    "
   ]
  },
  {
   "cell_type": "markdown",
   "id": "15b56f93",
   "metadata": {},
   "source": [
    "__10. Scenario: A company wants to analyze customer feedback ratings on a scale of 1 to 10. The data collected isas follows:__<br>\n",
    "    [8, 9, 7, 6, 8, 10, 9, 8, 7, 8]<br>\n",
    "    Calculate the 75th percentile of the feedback ratings.\n"
   ]
  },
  {
   "cell_type": "code",
   "execution_count": 41,
   "id": "8add81e7",
   "metadata": {},
   "outputs": [
    {
     "name": "stdout",
     "output_type": "stream",
     "text": [
      "75th percentile: 8.75\n"
     ]
    }
   ],
   "source": [
    "import numpy as np\n",
    "\n",
    "data=np.array([8, 9, 7, 6, 8, 10, 9, 8, 7, 8])\n",
    "_75_percentile=np.percentile(data,75)\n",
    "\n",
    "print(\"75th percentile:\", _75_percentile)"
   ]
  },
  {
   "cell_type": "markdown",
   "id": "c120fe01",
   "metadata": {},
   "source": [
    "__11. Scenario: A quality control department wants to test the weight consistency of a product. The weights of a sample of products are as follows:__<br>\n",
    "    [10.2, 9.8, 10.0, 10.5, 10.3, 10.1]<br>\n",
    "    Perform a hypothesis test to determine if the mean weight differs significantly from 10 grams.\n"
   ]
  },
  {
   "cell_type": "code",
   "execution_count": 44,
   "id": "7934aa92",
   "metadata": {},
   "outputs": [
    {
     "name": "stdout",
     "output_type": "stream",
     "text": [
      "t-statistic: 1.5126584522688367\n",
      "p-value: 0.19077595151110102\n",
      "\n",
      "The p-value is greater than or equal to the significance level (alpha).\n",
      "There is no significant difference in the mean weight from 10 grams.\n"
     ]
    }
   ],
   "source": [
    "from scipy.stats import stats\n",
    "\n",
    "weights=[10.2, 9.8, 10.0, 10.5, 10.3, 10.1]\n",
    "\n",
    "null_mean=10.0\n",
    "\n",
    "t_stats,p_val=stats.ttest_1samp(weights,null_mean)\n",
    "\n",
    "alpha=0.05\n",
    "\n",
    "print(\"t-statistic:\", t_stats)\n",
    "print(\"p-value:\", p_val)\n",
    "\n",
    "print()\n",
    "\n",
    "if p_val>alpha:\n",
    "    print(\"The p-value is greater than or equal to the significance level (alpha).\")\n",
    "    print(\"There is no significant difference in the mean weight from 10 grams.\")\n",
    "else:\n",
    "    print(\"The p-value is less than the significance level (alpha).\")\n",
    "    print(\"The mean weight differs significantly from 10 grams.\")   "
   ]
  },
  {
   "cell_type": "markdown",
   "id": "bcbbe0e7",
   "metadata": {},
   "source": [
    "__12. Scenario: A company wants to analyze the click-through rates of two different website designs. The number of clicks for each design is as follows:__<br>\n",
    "    Design A: [100, 120, 110, 90, 95]<br>\n",
    "    Design B: [80, 85, 90, 95, 100]<br>\n",
    "    Perform a chi-square test to determine if there is a significant difference in the click-through rates between the two designs.\n"
   ]
  },
  {
   "cell_type": "code",
   "execution_count": 54,
   "id": "9f8d4e28",
   "metadata": {},
   "outputs": [
    {
     "name": "stdout",
     "output_type": "stream",
     "text": [
      "Chi-square statistic: [2.22222222 5.97560976 2.         0.13513514 0.12820513]\n",
      "p-value: [0.13603713 0.01450507 0.15729921 0.71316606 0.72030033]\n",
      "\n",
      "At least one category has a p-value less than the significance level (alpha).\n",
      "There is a significant difference in the click-through rates between Design A and Design B.\n"
     ]
    }
   ],
   "source": [
    "from scipy.stats import stats\n",
    "import numpy as np\n",
    "\n",
    "Design_A=[100, 120, 110, 90, 95]\n",
    "Design_B=[80, 85, 90, 95, 100]\n",
    "\n",
    "observed=np.array([Design_A,Design_B])\n",
    "\n",
    "chi2_stats,p_val=stats.chisquare(observed)\n",
    "\n",
    "alpha=0.05\n",
    "\n",
    "print(\"Chi-square statistic:\", chi2_stats)\n",
    "print(\"p-value:\", p_val)\n",
    "\n",
    "print()\n",
    "\n",
    "for p_vals in p_val:\n",
    "    if p_vals < alpha:\n",
    "        print(\"At least one category has a p-value less than the significance level (alpha).\")\n",
    "        print(\"There is a significant difference in the click-through rates between Design A and Design B.\")\n",
    "        break\n",
    "else:\n",
    "    print(\"None of the categories have a p-value less than the significance level (alpha).\")\n",
    "    print(\"There is no significant difference in the click-through rates between Design A and Design B.\")"
   ]
  },
  {
   "cell_type": "markdown",
   "id": "6efcf13b",
   "metadata": {},
   "source": [
    "__13. Scenario: A survey is conducted to measure customer satisfaction with a product on a scale of 1 to 10. The data collected is as follows:__\n",
    "    <br>[7, 9, 6, 8, 10, 7, 8, 9, 7, 8]<br>\n",
    "    Calculate the 95% confidence interval for the population mean satisfaction score.\n"
   ]
  },
  {
   "cell_type": "code",
   "execution_count": 55,
   "id": "9211e47c",
   "metadata": {},
   "outputs": [
    {
     "name": "stdout",
     "output_type": "stream",
     "text": [
      "95% Confidence Interval: (7.043561120599888, 8.756438879400113)\n"
     ]
    }
   ],
   "source": [
    "import numpy as np\n",
    "import scipy.stats as stats\n",
    "\n",
    "scores = [7, 9, 6, 8, 10, 7, 8, 9, 7, 8]\n",
    "\n",
    "sample_mean = np.mean(scores)\n",
    "standard_error = stats.sem(scores)\n",
    "\n",
    "confidence_level = 0.95\n",
    "\n",
    "margin_of_error = standard_error * stats.t.ppf((1 + confidence_level) / 2, len(scores) - 1)\n",
    "\n",
    "confidence_interval = (sample_mean - margin_of_error, sample_mean + margin_of_error)\n",
    "\n",
    "print(\"95% Confidence Interval:\", confidence_interval)"
   ]
  },
  {
   "cell_type": "markdown",
   "id": "73f86773",
   "metadata": {},
   "source": [
    "__14. Scenario: A company wants to analyze the effect of temperature on product performance. The data collected is as follows:__\n",
    "    <br>Temperature (in degrees Celsius): [20, 22, 23, 19, 21]\n",
    "    <br>Performance (on a scale of 1 to 10): [8, 7, 9, 6, 8]<br>\n",
    "    Perform a simple linear regression to predict performance based on temperature.\n"
   ]
  },
  {
   "cell_type": "code",
   "execution_count": 67,
   "id": "96db0d44",
   "metadata": {},
   "outputs": [
    {
     "name": "stdout",
     "output_type": "stream",
     "text": [
      "Coefficient: 0.4999999999999999\n",
      "Intercept: -2.8999999999999986\n",
      "y=8.35 for x=22.5\n"
     ]
    }
   ],
   "source": [
    "import numpy as np\n",
    "\n",
    "Temperature=np.array([20, 22, 23, 19, 21]).reshape(-1,1)\n",
    "Performance=np.array([8, 7, 9, 6, 8])\n",
    "\n",
    "from sklearn.linear_model import LinearRegression\n",
    "\n",
    "lr=LinearRegression()\n",
    "\n",
    "lr.fit(Temperature,Performance)\n",
    "\n",
    "coefficient=lr.coef_\n",
    "intercept=lr.intercept_\n",
    "\n",
    "print(\"Coefficient:\", coefficient[0])\n",
    "print(\"Intercept:\", intercept)\n",
    "\n",
    "x=22.5\n",
    "prediction= intercept+coefficient*(x)\n",
    "print(f\"y={prediction[0]} for x={x}\")"
   ]
  },
  {
   "cell_type": "markdown",
   "id": "4e32cd31",
   "metadata": {},
   "source": [
    "__15. Scenario: A study is conducted to compare the preferences of two groups of participants. The preferences are measured on a Likert scale from 1 to 5. The data collected is as follows:__\n",
    "   <br> Group A: [4, 3, 5, 2, 4]\n",
    "   <br> Group B: [3, 2, 4, 3, 3]\n",
    "   <br> Perform a Mann-Whitney U test to determine if there is a significant difference in the median preferences between the two groups\n"
   ]
  },
  {
   "cell_type": "code",
   "execution_count": 68,
   "id": "09b2dbb8",
   "metadata": {},
   "outputs": [
    {
     "name": "stdout",
     "output_type": "stream",
     "text": [
      "Mann-Whitney U statistic: 17.0\n",
      "p-value: 0.380836480306712\n",
      "The p-value is greater than or equal to the significance level (alpha).\n",
      "There is no significant difference in the median preferences between Group A and Group B.\n"
     ]
    }
   ],
   "source": [
    "import scipy.stats as stats\n",
    "\n",
    "# Preferences for Group A and Group B\n",
    "group_a = [4, 3, 5, 2, 4]\n",
    "group_b = [3, 2, 4, 3, 3]\n",
    "\n",
    "# Perform Mann-Whitney U test\n",
    "statistic, p_value = stats.mannwhitneyu(group_a, group_b, alternative='two-sided')\n",
    "\n",
    "# Set the significance level\n",
    "alpha = 0.05\n",
    "\n",
    "# Print the test statistic and p-value\n",
    "print(\"Mann-Whitney U statistic:\", statistic)\n",
    "print(\"p-value:\", p_value)\n",
    "\n",
    "# Interpret the results\n",
    "if p_value < alpha:\n",
    "    print(\"The p-value is less than the significance level (alpha).\")\n",
    "    print(\"There is a significant difference in the median preferences between Group A and Group B.\")\n",
    "else:\n",
    "    print(\"The p-value is greater than or equal to the significance level (alpha).\")\n",
    "    print(\"There is no significant difference in the median preferences between Group A and Group B.\")\n"
   ]
  },
  {
   "cell_type": "markdown",
   "id": "7ffcaf4d",
   "metadata": {},
   "source": [
    "__16. Scenario: A company wants to analyze the distribution of customer ages. The data collected is as follows:__\n",
    "    <br>[25, 30, 35, 40, 45, 50, 55, 60, 65, 70]\n",
    "    <br>Calculate the interquartile range (IQR) of the ages.\n"
   ]
  },
  {
   "cell_type": "code",
   "execution_count": 92,
   "id": "4937f850",
   "metadata": {},
   "outputs": [
    {
     "name": "stdout",
     "output_type": "stream",
     "text": [
      "Inter Quartile Range of ages: 25.0\n"
     ]
    }
   ],
   "source": [
    "import numpy as np\n",
    "\n",
    "ages=[25, 30, 35, 40, 45, 50, 55, 60, 65, 70]\n",
    "x=len(ages)//2\n",
    "\n",
    "Q1=np.median(ages[:x])\n",
    "Q3=np.median(ages[x:])\n",
    "\n",
    "print(\"Inter Quartile Range of ages:\",Q3-Q1)"
   ]
  },
  {
   "cell_type": "markdown",
   "id": "ccf78d2e",
   "metadata": {},
   "source": [
    "__17. Scenario: A study is conducted to compare the performance of three different machine learning algorithms. The accuracy scores for each algorithm are as follows:__\n",
    "    <br>Algorithm A: [0.85, 0.80, 0.82, 0.87, 0.83]\n",
    "    <br>Algorithm B: [0.78, 0.82, 0.84, 0.80, 0.79]\n",
    "    <br>Algorithm C: [0.90, 0.88, 0.89, 0.86, 0.87]\n",
    "   <br> Perform a Kruskal-Wallis test to determine if there is a significant difference in the median accuracy scores between the algorithms.\n"
   ]
  },
  {
   "cell_type": "code",
   "execution_count": 93,
   "id": "d52bd491",
   "metadata": {},
   "outputs": [
    {
     "name": "stdout",
     "output_type": "stream",
     "text": [
      "Kruskal-Wallis statistic: 9.696947935368053\n",
      "p-value: 0.007840333026249539\n",
      "The p-value is less than the significance level (alpha).\n",
      "There is a significant difference in the median accuracy scores between the algorithms.\n"
     ]
    }
   ],
   "source": [
    "import scipy.stats as stats\n",
    "\n",
    "algorithm_a = [0.85, 0.80, 0.82, 0.87, 0.83]\n",
    "algorithm_b = [0.78, 0.82, 0.84, 0.80, 0.79]\n",
    "algorithm_c = [0.90, 0.88, 0.89, 0.86, 0.87]\n",
    "\n",
    "statistic, p_value = stats.kruskal(algorithm_a, algorithm_b, algorithm_c)\n",
    "\n",
    "alpha = 0.05\n",
    "\n",
    "print(\"Kruskal-Wallis statistic:\", statistic)\n",
    "print(\"p-value:\", p_value)\n",
    "\n",
    "if p_value < alpha:\n",
    "    print(\"The p-value is less than the significance level (alpha).\")\n",
    "    print(\"There is a significant difference in the median accuracy scores between the algorithms.\")\n",
    "else:\n",
    "    print(\"The p-value is greater than or equal to the significance level (alpha).\")\n",
    "    print(\"There is no significant difference in the median accuracy scores between the algorithms.\")\n"
   ]
  },
  {
   "cell_type": "markdown",
   "id": "45a41fda",
   "metadata": {},
   "source": [
    "__18. Scenario: A company wants to analyze the effect of price on sales. The data collected is as follows:__\n",
    "    <br>Price (in dollars): [10, 15, 12, 8, 14]\n",
    "    <br>Sales: [100, 80, 90, 110, 95]\n",
    "    <br>Perform a simple linear regression to predict sales based on price.\n"
   ]
  },
  {
   "cell_type": "code",
   "execution_count": 97,
   "id": "2a8afafa",
   "metadata": {},
   "outputs": [
    {
     "name": "stdout",
     "output_type": "stream",
     "text": [
      "Coefficient: -3.506097560975611\n",
      "Intercept: 136.3719512195122\n",
      "\n",
      "y=90.79268292682926 for x=13\n"
     ]
    }
   ],
   "source": [
    "import numpy as np\n",
    "\n",
    "Price=np.array([10, 15, 12, 8, 14]).reshape(-1,1)\n",
    "Sales=np.array([100, 80, 90, 110, 95])\n",
    "\n",
    "from sklearn.linear_model import LinearRegression\n",
    "lr=LinearRegression()\n",
    "\n",
    "lr.fit(Price,Sales)\n",
    "\n",
    "coefficient=lr.coef_[0]\n",
    "intercept=lr.intercept_\n",
    "\n",
    "print(\"Coefficient:\", coefficient)\n",
    "print(\"Intercept:\", intercept)\n",
    "\n",
    "price_val=13\n",
    "\n",
    "sale_val= coefficient*price_val+intercept\n",
    "print()\n",
    "print(f\"y={sale_val} for x={price_val}\")"
   ]
  },
  {
   "cell_type": "markdown",
   "id": "8dbf4c91",
   "metadata": {},
   "source": [
    "__19. Scenario: A survey is conducted to measure the satisfaction levels of customers with a new product. The data collected is as follows:__\n",
    "    <br>[7, 8, 9, 6, 8, 7, 9, 7, 8, 7]\n",
    "    <br>Calculate the standard error of the mean satisfaction score.\n",
    "\n"
   ]
  },
  {
   "cell_type": "code",
   "execution_count": 98,
   "id": "571b8331",
   "metadata": {},
   "outputs": [
    {
     "name": "stdout",
     "output_type": "stream",
     "text": [
      "Standard Error of the Mean: 0.30550504633038933\n"
     ]
    }
   ],
   "source": [
    "import numpy as np\n",
    "\n",
    "scores = [7, 8, 9, 6, 8, 7, 9, 7, 8, 7]\n",
    "\n",
    "standard_error = np.std(scores, ddof=1) / np.sqrt(len(scores))\n",
    "\n",
    "print(\"Standard Error of the Mean:\", standard_error)"
   ]
  },
  {
   "cell_type": "code",
   "execution_count": 103,
   "id": "30974afe",
   "metadata": {},
   "outputs": [
    {
     "name": "stdout",
     "output_type": "stream",
     "text": [
      "Regression Equation: Sales = 12.20121951219512 + 1.152439024390244 * Advertising Expenditure\n",
      " Say Advertising Expenditure= 13.3\n",
      "Then sales= [27.52865854]\n"
     ]
    }
   ],
   "source": [
    "import numpy as np\n",
    "from sklearn.linear_model import LinearRegression\n",
    "\n",
    "advertising_expenditure = np.array([10, 15, 12, 8, 14]).reshape(-1, 1)\n",
    "sales = np.array([25, 30, 28, 20, 26])\n",
    "\n",
    "regression_model = LinearRegression()\n",
    "regression_model.fit(advertising_expenditure, sales)\n",
    "\n",
    "coefficients = regression_model.coef_\n",
    "intercept = regression_model.intercept_\n",
    "\n",
    "print(\"Regression Equation: Sales =\", intercept, \"+\", coefficients[0], \"* Advertising Expenditure\")\n",
    "\n",
    "print(\" Say Advertising Expenditure= 13.3\")\n",
    "\n",
    "print(f\"Then sales= {coefficients*13.3 + intercept}\")"
   ]
  },
  {
   "cell_type": "code",
   "execution_count": null,
   "id": "55577cf6",
   "metadata": {},
   "outputs": [],
   "source": []
  }
 ],
 "metadata": {
  "kernelspec": {
   "display_name": "Python 3 (ipykernel)",
   "language": "python",
   "name": "python3"
  },
  "language_info": {
   "codemirror_mode": {
    "name": "ipython",
    "version": 3
   },
   "file_extension": ".py",
   "mimetype": "text/x-python",
   "name": "python",
   "nbconvert_exporter": "python",
   "pygments_lexer": "ipython3",
   "version": "3.9.13"
  }
 },
 "nbformat": 4,
 "nbformat_minor": 5
}
